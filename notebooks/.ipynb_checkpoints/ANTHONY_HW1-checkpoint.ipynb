{
 "cells": [
  {
   "cell_type": "markdown",
   "metadata": {},
   "source": [
    "## Problem 1"
   ]
  },
  {
   "cell_type": "markdown",
   "metadata": {},
   "source": [
    "\n",
    "**(a)** We wish to estimate $ \\tilde \\eta = \\mathbf{F} \\mathbf{h}$. To obtain this estimate we need to solve the least-squares problem  $\\mathbf F^* \\eta = \\mathbf{h}$. We want $\\eta$ to be distributed amongst the ice sheets in proportions that agree to our data. So,  $F^*$ will be a column vector $F^* = \\begin{bmatrix} m_1, \\cdots, m_N \\end{bmatrix}^T$ where $m_i$ are the sea level contribution mass fraction of each ice sheet $i$. "
   ]
  },
  {
   "cell_type": "code",
   "execution_count": 1,
   "metadata": {},
   "outputs": [
    {
     "data": {
      "text/plain": [
       "C_x̃x̃ (generic function with 1 method)"
      ]
     },
     "execution_count": 1,
     "metadata": {},
     "output_type": "execute_result"
    }
   ],
   "source": [
    "# WLS Estimator and Covariance matrix  \n",
    "using LinearAlgebra\n",
    "LS_estimator(E, W) = inv(E' * inv(W) * E ) * (E' * inv(W))\n",
    "C_x̃x̃(E_dag, C_nn) = E_dag * C_nn * E_dag'"
   ]
  },
  {
   "cell_type": "markdown",
   "metadata": {},
   "source": [
    "**(b)** The solution variance is given by the equation \n",
    "$$ C_{\\tilde x \\tilde x} = F^† C_{nn} F^{†T}$$\n",
    "where $ F^† = \\left(F^{*T} W^{-1} F^* \\right)^{-1} (F^{*T} W^{-1})$. \n",
    "\n",
    "We set $W = I$ because the way that we have constructed our $F^*$ already contains the weighting information. We find that $\\sigma_{\\tilde x} = C_{\\tilde x \\tilde x} = (88.6 [m])$"
   ]
  },
  {
   "cell_type": "code",
   "execution_count": 5,
   "metadata": {},
   "outputs": [
    {
     "data": {
      "text/plain": [
       "88.64060288645346"
      ]
     },
     "execution_count": 5,
     "metadata": {},
     "output_type": "execute_result"
    }
   ],
   "source": [
    "η_contr = [76 18.4 4.1 9.9 5.5]'\n",
    "F = η_contr./ sum(η_contr)\n",
    "W = diagm(ones(length(F))) #equal weights \n",
    "σn = 0.5 .* [13.4, 9.8, 2.0, 3.4, 1.0]\n",
    "C_nn = diagm(σn.^2) #setup noise matrix \n",
    "F_dag = LS_estimator(F, W) #construct estimator\n",
    "\n",
    " #compute covariance matrix\n",
    "ση² = C_x̃x̃(F_dag, C_nn)[1]"
   ]
  },
  {
   "cell_type": "markdown",
   "metadata": {},
   "source": [
    "**(c)** We have found an estimate and corresponding error for sea level rise:  $$\\tilde \\eta \\pm 2 \\sigma = 114.0 ± 18.82 [m]$$"
   ]
  },
  {
   "cell_type": "code",
   "execution_count": 6,
   "metadata": {},
   "outputs": [
    {
     "name": "stdout",
     "output_type": "stream",
     "text": [
      "estimated sea level rise: 114.0 ± 18.82 meters\n"
     ]
    }
   ],
   "source": [
    "ση = round(sqrt(ση²), sigdigits = 3)\n",
    "η̃ = round.(F_dag * η_contr, sigdigits = 3)[1]\n",
    "println(\"estimated sea level rise: \", η̃,  \" ± \", 2 * ση, \" meters\")"
   ]
  },
  {
   "cell_type": "markdown",
   "metadata": {},
   "source": [
    "The + $2 \\sigma $ value of my estimate of sea level rise is about $132.83$ meters. This means that there is less than $2.5\\%$ chance that my estimate is greater than $132.83$. Therefore we conclude that these two estimates are statistically significant. "
   ]
  },
  {
   "cell_type": "markdown",
   "metadata": {},
   "source": [
    "## Problem 2"
   ]
  },
  {
   "cell_type": "markdown",
   "metadata": {},
   "source": [
    "**(a)** The problem that we wish to solve is \n",
    "$$\\mathbf{y} = \\mathbf{E} \\eta_{true} + \\mathbf{n}$$\n",
    "where \n",
    "$$\\mathbf{E} = \\begin{bmatrix} 1 \\\\ 1\\end{bmatrix}$$\n",
    "and \n",
    "$$\\mathbf{y} = \\begin{bmatrix} 116.4  \\\\ 113.9 \\end{bmatrix}$$\n",
    "\n",
    "Setting $W = I$ (all observations are equally true), we find $E^\\dagger = \\begin{bmatrix}0.5,  0.5 \\end{bmatrix}$ a row vector.\n"
   ]
  },
  {
   "cell_type": "code",
   "execution_count": 4,
   "metadata": {},
   "outputs": [
    {
     "data": {
      "text/plain": [
       "1×2 adjoint(::Vector{Float64}) with eltype Float64:\n",
       " 0.5  0.5"
      ]
     },
     "metadata": {},
     "output_type": "display_data"
    }
   ],
   "source": [
    "using LinearAlgebra\n",
    "W = diagm([1, 1])\n",
    "E = [1 ; 1]\n",
    "E_dag = LS_estimator(E, W)\n"
   ]
  },
  {
   "cell_type": "markdown",
   "metadata": {},
   "source": [
    "**(b)** We find that the least squares estimation $\\tilde{\\eta} = E^{\\dagger} y = 115.15 $ meters. The solution uncertainty $P$ is given by the following $P = C_{\\mathbf{\\tilde {x} \\tilde {x} }} + b$. But weighted least squares is *unbiased*, so the $P = \\sigma_\\eta^2 =  C_{\\mathbf{\\tilde {x} \\tilde {x} }} $. $\\sigma_\\eta$^2 can then be written out as a function of the noise covariance b y applying the an identity of $C_{\\mathbf{\\tilde {x} \\tilde {x} }}$. So that finally \n",
    "$$\\sigma_\\eta =  C_{\\mathbf{\\tilde {x} \\tilde {x} }} = E^{\\dagger} C_{nn}  E^{\\dagger T}  $$ \n",
    "where $C_{nn}$ is the noise covariance. \n",
    "\n",
    "For our problem $$C_{nn} = \\begin{bmatrix} \\sigma_1^2 & 0 \\\\ 0 & \\sigma_2^2  \\end{bmatrix} $$ because we assume that that covariances of the noise (the off-diagonal terms) are 0. \n",
    "\n",
    "Our reported sea level rise estimate and $2\\sigma$ error are $ \\tilde \\eta \\pm 2 \\sigma = 115.0 \\pm 7.0$ [meters] "
   ]
  },
  {
   "cell_type": "code",
   "execution_count": 5,
   "metadata": {},
   "outputs": [
    {
     "name": "stdout",
     "output_type": "stream",
     "text": [
      "estimated sea level rise: 115.15 ± 7.0 meters\n"
     ]
    }
   ],
   "source": [
    "y = [116.4; 113.9]\n",
    "x̃ = E_dag * y\n",
    "\n",
    "σ1 = 10.4/2; σ2 = 9.4/2; #define observation standard deviation\n",
    "C_nn = diagm([σ1^2, σ2^2]) #setup covariance matrix\n",
    "C_nn = round.(C_nn, sigdigits = 3) #sigfigs \n",
    "ση² = C_x̃x̃(E_dag, C_nn) #compute solution uncertainty \n",
    "ση = round(sqrt(ση²), sigdigits = 3 )#sigfigs  /\n",
    "\n",
    "println(\"estimated sea level rise: \", x̃,  \" ± \", 2 * ση, \" meters\")"
   ]
  },
  {
   "cell_type": "markdown",
   "metadata": {},
   "source": [
    "## Problem 3"
   ]
  },
  {
   "cell_type": "markdown",
   "metadata": {},
   "source": [
    "**(a)** Assuming $W = I$ and $E =  \\begin{bmatrix} 1 & 2009 \\\\ 1 &2019  \\end{bmatrix}$. The least squares estimator is $E^\\dagger = \\begin{bmatrix} 201.9 & -200.9 \\\\ -0.1 &0.1  \\end{bmatrix}$"
   ]
  },
  {
   "cell_type": "code",
   "execution_count": 6,
   "metadata": {},
   "outputs": [
    {
     "data": {
      "text/plain": [
       "2×2 Matrix{Float64}:\n",
       " 201.9  -200.9\n",
       "  -0.1     0.1"
      ]
     },
     "metadata": {},
     "output_type": "display_data"
    }
   ],
   "source": [
    "E = [1 2009; 1 2019]\n",
    "y = [116.4; 113.9]\n",
    "W = diagm([1, 1])\n",
    "E_dag = inv(E' * inv(W) * E ) * (E' * inv(W)) \n"
   ]
  },
  {
   "cell_type": "markdown",
   "metadata": {},
   "source": [
    "**(b)**\n",
    "\n",
    "The estimated x is found to be $ \\tilde x = [619.0 {[m]}, -0.25 {\\frac{m}{yr}}]^T$. The solution covariance is $$C_{\\tilde x \\tilde x} = \\begin{bmatrix} 2 \\times 10^6 & -0.25 \\\\ -989 & 0.491 \\end{bmatrix}$$"
   ]
  },
  {
   "cell_type": "code",
   "execution_count": 7,
   "metadata": {},
   "outputs": [
    {
     "name": "stdout",
     "output_type": "stream",
     "text": [
      "[619.0, -0.25]\n",
      "[1.99e6 -989.0; -989.0 0.491]\n"
     ]
    }
   ],
   "source": [
    "x̃ = E_dag * y\n",
    "\n",
    "σ1 = 10.4/2; σ2 = 9.4/2; #define observation standard deviation\n",
    "C_nn = diagm([σ1^2, σ2^2]) #setup covariance matrix\n",
    "C_nn = round.(C_nn, sigdigits = 3) #sigfigs \n",
    "ση² = E_dag * C_nn * E_dag' #compute solution uncertainty \n",
    "\n",
    "println(round.(x̃, sigdigits = 3))\n",
    "println(round.(ση², sigdigits = 3))"
   ]
  },
  {
   "cell_type": "markdown",
   "metadata": {},
   "source": [
    "**(c)**\n",
    "Our estimation of sea level trend $(c1)$ is found to be $$ c1 \\pm 2\\sigma_{c1} = -0.25 \\pm 1.4 \\frac{m}{yr} $$"
   ]
  },
  {
   "cell_type": "code",
   "execution_count": 8,
   "metadata": {},
   "outputs": [
    {
     "name": "stdout",
     "output_type": "stream",
     "text": [
      "estimated trend: -0.25 ± 1.402 meters/year\n"
     ]
    }
   ],
   "source": [
    "c0_error = sqrt(diag(ση²)[1])\n",
    "c1_error = round(sqrt(diag(ση²)[2]), sigdigits = 3)\n",
    "\n",
    "println(\"estimated trend: \", round(x̃[2], sigdigits = 3),  \" ± \", 2 * c1_error, \" meters/year\")"
   ]
  },
  {
   "cell_type": "markdown",
   "metadata": {},
   "source": [
    "**(d)** Adding an observation, our estimates change a bit and our uncertainty decreases. Our updated estimation of sea level trend $(c1)$ is found to be $$ c1 \\pm 2\\sigma_{c1} = -0.24 \\pm 0.33 \\frac{m}{yr} $$"
   ]
  },
  {
   "cell_type": "code",
   "execution_count": 9,
   "metadata": {},
   "outputs": [
    {
     "name": "stdout",
     "output_type": "stream",
     "text": [
      "estimated trend: -0.236 ± 0.332 meters\n"
     ]
    }
   ],
   "source": [
    "E = [1 1989; 1 2009; 1 2019]\n",
    "y = [121; 116.4; 113.9]\n",
    "W = diagm(ones(3))\n",
    "E_dag = inv(E' * inv(W) * E ) * (E' * inv(W)) \n",
    "c = E_dag * y\n",
    "\n",
    "σ = 0.5 .* [5, 10.4, 9.4]; #define observation standard deviation\n",
    "C_nn = diagm(σ.^2) #setup covariance matrix\n",
    "C_nn = round.(C_nn, sigdigits = 3) #sigfigs \n",
    "ση = E_dag * C_nn * E_dag' #compute solution uncertainty \n",
    "c0_error = sqrt(diag(ση)[1])\n",
    "c1_error = sqrt(diag(ση)[2])\n",
    "println(\"estimated trend: \", round(c[2], sigdigits = 3),  \" ± \", 2 * round(c1_error, sigdigits = 3), \" meters\")\n",
    "\n"
   ]
  },
  {
   "cell_type": "markdown",
   "metadata": {},
   "source": [
    "## Problem 4\n",
    "We will estimate the solution to our underdetermined system \n",
    "$$ \\delta_c = \\delta_w - 0.24 [\\% / ^\\circ C] T$$\n",
    "using taper-weighted least squares"
   ]
  },
  {
   "cell_type": "code",
   "execution_count": 14,
   "metadata": {},
   "outputs": [
    {
     "data": {
      "text/plain": [
       "C_x̃x̃_tw (generic function with 1 method)"
      ]
     },
     "execution_count": 14,
     "metadata": {},
     "output_type": "execute_result"
    }
   ],
   "source": [
    "#taper-weighted least squares solution\n",
    "Tape_LS(x0, y, E, W, S) = inv(E'*inv(W)*E .+ inv(S)) * (E'*inv(W)*y .+ inv(S)*x0)\n",
    "#E^†_tw from taper-weighted least squares\n",
    "E_dag_tw(E, W, S) = inv(E'*inv(W)*E .+ inv(S))*E'*inv(W) \n",
    "#taper-weighted least squares solution covariance matrix \n",
    "C_x̃x̃_tw(E, C_nn) = E*C_nn*E'"
   ]
  },
  {
   "cell_type": "markdown",
   "metadata": {},
   "source": [
    "**(a)**\n",
    "At first, we pick $\\gamma$ randomly. In this case $\\gamma = 1$. The solution $\\tilde x \\pm 2 \\sigma$ is found to be \n",
    "$$\\tilde x \\pm 2 \\sigma = \\begin{bmatrix} \\delta_w \\pm 2 \\sigma_w \\\\ T \\pm 2 \\sigma_T \\end{bmatrix}  =  \n",
    "\\begin{bmatrix} -0.971 \\pm 18.7 \\text{ per mille}\\\\3.99 \\pm 0.01 ^\\circ C \\end{bmatrix} $$"
   ]
  },
  {
   "cell_type": "code",
   "execution_count": 23,
   "metadata": {},
   "outputs": [
    {
     "name": "stdout",
     "output_type": "stream",
     "text": [
      "δw ± 2σδ = -0.971 ± 0.1944 per mille\n",
      "T ± 2σT = 3.99 ± 0.0466\n",
      "-1.9285999999999999\n"
     ]
    }
   ],
   "source": [
    "y = -1.9; E = [1, -0.24]' #og problem\n",
    "W = 1; S = diagm([1, 1])  #equal weights\n",
    "x0 = [-1, 4] #first-guess\n",
    "x̃ = Tape_LS(x0, y, E, W, S)\n",
    "E_dag = E_dag_tw(E, W, S)\n",
    "\n",
    "C_nn = 0.2^2\n",
    "σx̃² = C_x̃x̃_tw(E_dag, C_nn)\n",
    "x̃ = round.(x̃, sigdigits = 3)\n",
    "σx̃ = round.(sqrt.(diag(σx̃²)), sigdigits = 3)\n",
    "println(\"δw ± 2σδ = \", x̃[1], \" ± \", 2*σx̃[1], \" per mille\")\n",
    "println(\"T ± 2σT = \", x̃[2], \" ± \", 2*σx̃[2])"
   ]
  },
  {
   "cell_type": "markdown",
   "metadata": {},
   "source": [
    "**(b)**\n",
    "The estimator $E_{tw}^\\dagger$ is given by \n",
    "$$E_{tw}^\\dagger = (E^T W^{-1} E + S^{-1})^{-1} E^T W^{-1}$$\n",
    "For our example, we chose $W = 1$ and $S = I$, we can further simplify $E_{tw}^\\dagger$\n",
    "$$E_{tw}^\\dagger = (E^T  E + I)^{-1} E^T $$\n",
    "The bias of TW least-squares is given by $b = (E_{tw}^\\dagger E - I) x_{true} + c$. Recall, $c$ is defined as $c = (E^T E + I)^{-1}x_0$. Since $x_0 \\neq 0$ it follows that $c \\neq 0$. This means that bias $b\\neq 0$ so $E_{tw}^\\dagger$ is a biased estimator. "
   ]
  },
  {
   "cell_type": "markdown",
   "metadata": {},
   "source": [
    "**(c)**\n",
    "Now we pick $\\gamma = 0.005$. The solution $\\tilde x \\pm 2 \\sigma$ is found to be \n",
    "$$\\tilde x \\pm 2 \\sigma = \\begin{bmatrix} \\delta_w \\pm 2 \\sigma_w \\\\ T \\pm 2 \\sigma_T \\end{bmatrix}  =  \n",
    "\\begin{bmatrix} -0.944 \\pm 0.188 \\text{ per mille}\\\\3.99 \\pm 0.04 ^\\circ C \\end{bmatrix} $$\n",
    "\n",
    "At 2 significant digits, we obtain an approximation for $\\delta_w$, $\\tilde \\delta_w = E \\tilde x = 1.9 $ per mille. In part **(a)**, we obtain the same approximation when using 2 significant digits. The error in **(a)**, however, is about half as much as we have found in **(c)**. "
   ]
  },
  {
   "cell_type": "markdown",
   "metadata": {},
   "source": []
  },
  {
   "cell_type": "code",
   "execution_count": 27,
   "metadata": {},
   "outputs": [
    {
     "name": "stdout",
     "output_type": "stream",
     "text": [
      "δw ± σδ = -0.944 ± 0.376 per mille\n",
      "T ± σT = 3.99 ± 0.0904\n",
      "approximated δ_w = -1.9\n"
     ]
    }
   ],
   "source": [
    "y = -1.9; E = [1, -0.24]' #og problem\n",
    "W = 1;  S = diagm([1, 1] ./ 0.005)  # S = 1 / γ\n",
    "x0 = [-1, 4] #first-guess\n",
    "x̃ = Tape_LS(x0, y, E, W, S)\n",
    "E_dag = E_dag_tw(E, W, S)\n",
    "C_nn = 0.2^2\n",
    "σx̃² = C_x̃x̃_tw(E_dag, C_nn)\n",
    "x̃ = round.(x̃, sigdigits = 3)\n",
    "σx̃ = round.(sqrt.(diag(σx̃²)), sigdigits = 3)\n",
    "println(\"δw ± σδ = \", x̃[1], \" ± \", 2 * σx̃[1], \" per mille\")\n",
    "println(\"T ± σT = \", x̃[2], \" ± \", 2 * σx̃[2])\n",
    "\n",
    "println(\"approximated δ_w = \", round(E * x̃, sigdigits =2))"
   ]
  },
  {
   "cell_type": "markdown",
   "metadata": {},
   "source": []
  },
  {
   "cell_type": "markdown",
   "metadata": {},
   "source": []
  }
 ],
 "metadata": {
  "kernelspec": {
   "display_name": "Julia 1.7.2",
   "language": "julia",
   "name": "julia-1.7"
  },
  "language_info": {
   "file_extension": ".jl",
   "mimetype": "application/julia",
   "name": "julia",
   "version": "1.7.1"
  },
  "vscode": {
   "interpreter": {
    "hash": "aee8b7b246df8f9039afb4144a1f6fd8d2ca17a180786b69acc140d282b71a49"
   }
  }
 },
 "nbformat": 4,
 "nbformat_minor": 2
}
