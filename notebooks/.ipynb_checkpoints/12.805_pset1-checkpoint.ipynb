{
 "cells": [
  {
   "cell_type": "code",
   "execution_count": 2,
   "id": "1ce6d4a0",
   "metadata": {},
   "outputs": [],
   "source": [
    "# adds upper level to working directory, this is where the utils folder is saved\n",
    "import sys\n",
    "sys.path.append(\"..\")\n",
    "\n",
    "# import the util functions\n",
    "from utils.eddy_plot_utils import *\n",
    "from utils.eddy_data_utils import *\n",
    "\n",
    "import math"
   ]
  },
  {
   "cell_type": "markdown",
   "id": "19bcf2bb",
   "metadata": {},
   "source": [
    "## 1. Error propagation"
   ]
  },
  {
   "cell_type": "code",
   "execution_count": 3,
   "id": "aa76db62",
   "metadata": {},
   "outputs": [],
   "source": [
    "#1 \n",
    "\n",
    "h = np.array([[76.0],[18.4],[4.1],[9.9],[5.5]])\n",
    "h_error = np.array([[13.4],[18.4],[4.1],[3.4],[1.0]])\n",
    "eta = np.array([132.0])"
   ]
  },
  {
   "cell_type": "code",
   "execution_count": 4,
   "id": "fd7c0d04",
   "metadata": {},
   "outputs": [
    {
     "data": {
      "text/plain": [
       "array([[76. ],\n",
       "       [18.4],\n",
       "       [ 4.1],\n",
       "       [ 9.9],\n",
       "       [ 5.5]])"
      ]
     },
     "execution_count": 4,
     "metadata": {},
     "output_type": "execute_result"
    }
   ],
   "source": [
    "h"
   ]
  },
  {
   "cell_type": "code",
   "execution_count": 5,
   "id": "2dd55df3",
   "metadata": {},
   "outputs": [
    {
     "data": {
      "text/plain": [
       "113.9"
      ]
     },
     "execution_count": 5,
     "metadata": {},
     "output_type": "execute_result"
    }
   ],
   "source": [
    "h.sum() # my sea level rise estimate"
   ]
  },
  {
   "cell_type": "code",
   "execution_count": 6,
   "id": "9c36a88a",
   "metadata": {},
   "outputs": [
    {
     "data": {
      "text/plain": [
       "11.69925211284892"
      ]
     },
     "execution_count": 6,
     "metadata": {},
     "output_type": "execute_result"
    }
   ],
   "source": [
    "np.sqrt(((h_error/2)**2).sum()) # my standard error"
   ]
  },
  {
   "cell_type": "code",
   "execution_count": 18,
   "id": "6ef96194",
   "metadata": {},
   "outputs": [
    {
     "data": {
      "image/png": "[encoded data removed]",
      "text/plain": [
       "<Figure size 432x288 with 1 Axes>"
      ]
     },
     "metadata": {
      "needs_background": "light"
     },
     "output_type": "display_data"
    }
   ],
   "source": [
    "my_est = h.sum()\n",
    "my_est_error = np.sqrt(((h_error/2)**2).sum())\n",
    "\n",
    "best_est = 132\n",
    "best_est_error = 2\n",
    "\n",
    "my_y = [my_est-my_est_error, my_est, my_est + my_est_error]\n",
    "\n",
    "best_y = [best_est-best_est_error, best_est, best_est + best_est_error]\n",
    "\n",
    "data = [my_y, best_y]\n",
    "\n",
    "plt.boxplot(data);"
   ]
  },
  {
   "cell_type": "code",
   "execution_count": 19,
   "id": "27306e9f",
   "metadata": {},
   "outputs": [
    {
     "data": {
      "text/plain": [
       "[102.20074788715108, 113.9, 125.59925211284893]"
      ]
     },
     "execution_count": 19,
     "metadata": {},
     "output_type": "execute_result"
    }
   ],
   "source": [
    "my_y"
   ]
  },
  {
   "cell_type": "markdown",
   "id": "5089e027",
   "metadata": {},
   "source": [
    "## 2.  Overdetermined least-squares estimation"
   ]
  },
  {
   "cell_type": "code",
   "execution_count": 81,
   "id": "5ece5b0a",
   "metadata": {},
   "outputs": [
    {
     "data": {
      "text/plain": [
       "array([[3.2249031 ],\n",
       "       [3.06594194]])"
      ]
     },
     "execution_count": 81,
     "metadata": {},
     "output_type": "execute_result"
    }
   ],
   "source": [
    "#2 \n",
    "\n",
    "eta = np.array([[116.4],[113.9]])\n",
    "eta_error = np.array([[10.4],[9.4]])\n",
    "\n",
    "eta_std = eta_error*0.5\n",
    "\n",
    "lse = np.array([0.5,0.5])\n",
    "\n",
    "np.sqrt(eta_error)"
   ]
  },
  {
   "cell_type": "code",
   "execution_count": 53,
   "id": "c7a707bc",
   "metadata": {},
   "outputs": [
    {
     "data": {
      "text/plain": [
       "array([[119.6249031 ],\n",
       "       [116.96594194]])"
      ]
     },
     "execution_count": 53,
     "metadata": {},
     "output_type": "execute_result"
    }
   ],
   "source": [
    "eta + np.sqrt(eta_error)"
   ]
  },
  {
   "cell_type": "code",
   "execution_count": 54,
   "id": "513e52da",
   "metadata": {},
   "outputs": [
    {
     "data": {
      "text/plain": [
       "array([[113.1750969 ],\n",
       "       [110.83405806]])"
      ]
     },
     "execution_count": 54,
     "metadata": {},
     "output_type": "execute_result"
    }
   ],
   "source": [
    "eta - np.sqrt(eta_error)"
   ]
  },
  {
   "cell_type": "code",
   "execution_count": 63,
   "id": "12e7e3ea",
   "metadata": {},
   "outputs": [
    {
     "data": {
      "text/plain": [
       "array([115.15])"
      ]
     },
     "execution_count": 63,
     "metadata": {},
     "output_type": "execute_result"
    }
   ],
   "source": [
    "np.matmul(lse, eta)"
   ]
  },
  {
   "cell_type": "code",
   "execution_count": 70,
   "id": "3887df2f",
   "metadata": {},
   "outputs": [
    {
     "data": {
      "text/plain": [
       "array([[3.2249031 ],\n",
       "       [3.06594194]])"
      ]
     },
     "execution_count": 70,
     "metadata": {},
     "output_type": "execute_result"
    }
   ],
   "source": [
    "np.sqrt(eta_error)"
   ]
  },
  {
   "cell_type": "code",
   "execution_count": 80,
   "id": "d247d37e",
   "metadata": {},
   "outputs": [
    {
     "data": {
      "text/plain": [
       "array([[3.2249031 ],\n",
       "       [3.06594194]])"
      ]
     },
     "execution_count": 80,
     "metadata": {},
     "output_type": "execute_result"
    }
   ],
   "source": [
    "np.sqrt(eta_error)"
   ]
  },
  {
   "cell_type": "code",
   "execution_count": 77,
   "id": "aef47687",
   "metadata": {},
   "outputs": [
    {
     "data": {
      "text/plain": [
       "4.95"
      ]
     },
     "execution_count": 77,
     "metadata": {},
     "output_type": "execute_result"
    }
   ],
   "source": [
    "0.5*5.2 + 0.5*4.7"
   ]
  },
  {
   "cell_type": "code",
   "execution_count": 85,
   "id": "4ea770b6",
   "metadata": {},
   "outputs": [
    {
     "data": {
      "text/plain": [
       "array([[27.04],\n",
       "       [22.09]])"
      ]
     },
     "execution_count": 85,
     "metadata": {},
     "output_type": "execute_result"
    }
   ],
   "source": [
    "eta_std**2"
   ]
  },
  {
   "cell_type": "code",
   "execution_count": 88,
   "id": "a0b35ecd",
   "metadata": {},
   "outputs": [
    {
     "data": {
      "text/plain": [
       "array([[13.52 , 13.52 ],\n",
       "       [11.045, 11.045]])"
      ]
     },
     "execution_count": 88,
     "metadata": {},
     "output_type": "execute_result"
    }
   ],
   "source": [
    "lse*(eta_std**2)"
   ]
  },
  {
   "cell_type": "code",
   "execution_count": 87,
   "id": "87885ba4",
   "metadata": {},
   "outputs": [
    {
     "data": {
      "text/plain": [
       "12.282499999999999"
      ]
     },
     "execution_count": 87,
     "metadata": {},
     "output_type": "execute_result"
    }
   ],
   "source": [
    "13.52*0.5 + 11.045*0.5"
   ]
  },
  {
   "cell_type": "code",
   "execution_count": 90,
   "id": "85837bf8",
   "metadata": {},
   "outputs": [
    {
     "data": {
      "text/plain": [
       "3.5046397817750115"
      ]
     },
     "execution_count": 90,
     "metadata": {},
     "output_type": "execute_result"
    }
   ],
   "source": [
    "np.sqrt(12.282499999999999)"
   ]
  },
  {
   "cell_type": "markdown",
   "id": "7c20be44",
   "metadata": {},
   "source": [
    "## 3. Trend analysis"
   ]
  },
  {
   "cell_type": "code",
   "execution_count": 55,
   "id": "880c81c2",
   "metadata": {},
   "outputs": [
    {
     "data": {
      "text/plain": [
       "array([[ 1.99381831e+06, -9.89725700e+02],\n",
       "       [-9.89725700e+02,  4.91300000e-01]])"
      ]
     },
     "execution_count": 55,
     "metadata": {},
     "output_type": "execute_result"
    }
   ],
   "source": [
    "y = np.array([[116.4],[113.9]])\n",
    "n = np.array([[10.4],[9.4]])\n",
    "\n",
    "# x_vec = np.array([[c_0],[c_1]])\n",
    "\n",
    "t_1 = 2009\n",
    "t_2 = 2019\n",
    "\n",
    "E = np.array([[1,t_1],[1,t_2]])\n",
    "\n",
    "\n",
    "E_dag = np.matmul(np.linalg.inv((np.matmul(E.T,E))),E.T)\n",
    "\n",
    "sigma_n1 = (10.4/2)\n",
    "sigma_n2 = (9.4/2)\n",
    "\n",
    "C_nn = np.array([[sigma_n1**2,0],[0,sigma_n2**2]])\n",
    "\n",
    "x_tilde = np.dot(E_dag, y)\n",
    "\n",
    "C_xx = np.dot(E_dag, np.dot(C_nn,E_dag.T))\n",
    "C_xx "
   ]
  },
  {
   "cell_type": "code",
   "execution_count": null,
   "id": "e2295575",
   "metadata": {},
   "outputs": [],
   "source": [
    "def x_tilde(E_dag, y):\n",
    "    return np.dot(E_dag, y)"
   ]
  },
  {
   "cell_type": "code",
   "execution_count": null,
   "id": "81674dfb",
   "metadata": {},
   "outputs": [],
   "source": [
    "def e_dag(E):\n",
    "    return np.matmul(np.linalg.inv((np.matmul(E.T,E))),E.T)"
   ]
  },
  {
   "cell_type": "code",
   "execution_count": 54,
   "id": "a3ed31d5",
   "metadata": {},
   "outputs": [
    {
     "data": {
      "text/plain": [
       "array([[ 6.1865e+02],\n",
       "       [-2.5000e-01]])"
      ]
     },
     "execution_count": 54,
     "metadata": {},
     "output_type": "execute_result"
    }
   ],
   "source": [
    "x_tilde"
   ]
  },
  {
   "cell_type": "code",
   "execution_count": 52,
   "id": "d526b2fa",
   "metadata": {},
   "outputs": [
    {
     "data": {
      "text/plain": [
       "979562.935703"
      ]
     },
     "execution_count": 52,
     "metadata": {},
     "output_type": "execute_result"
    }
   ],
   "source": [
    "1.99381831e+06*4.91300000e-01"
   ]
  },
  {
   "cell_type": "code",
   "execution_count": 50,
   "id": "91a9b68a",
   "metadata": {},
   "outputs": [
    {
     "data": {
      "text/plain": [
       "0.7009279563550023"
      ]
     },
     "execution_count": 50,
     "metadata": {},
     "output_type": "execute_result"
    }
   ],
   "source": [
    "np.sqrt(4.91300000e-01)"
   ]
  },
  {
   "cell_type": "code",
   "execution_count": 51,
   "id": "531129c4",
   "metadata": {},
   "outputs": [
    {
     "data": {
      "text/plain": [
       "1412.0263134941927"
      ]
     },
     "execution_count": 51,
     "metadata": {},
     "output_type": "execute_result"
    }
   ],
   "source": [
    "np.sqrt(1.99381831e+06)"
   ]
  },
  {
   "cell_type": "code",
   "execution_count": 56,
   "id": "43ee1f7a",
   "metadata": {},
   "outputs": [
    {
     "data": {
      "text/plain": [
       "array([[ 1.09360776e+05, -5.47231872e+01],\n",
       "       [-5.47231872e+01,  2.73841837e-02]])"
      ]
     },
     "execution_count": 56,
     "metadata": {},
     "output_type": "execute_result"
    }
   ],
   "source": [
    "y = np.array([[121],[116.4],[113.9]])\n",
    "n = np.array([[5],[10.4],[9.4]])\n",
    "\n",
    "# x_vec = np.array([[c_0],[c_1]])\n",
    "\n",
    "t_1 = 1989\n",
    "t_2 = 2009\n",
    "t_3 = 2019\n",
    "\n",
    "E = np.array([[1,t_1],[1,t_2],[1,t_3]])\n",
    "\n",
    "\n",
    "E_dag = np.matmul(np.linalg.inv((np.matmul(E.T,E))),E.T)\n",
    "\n",
    "sigma_n1 = (5/2)\n",
    "sigma_n2 = (10.4/2)\n",
    "sigma_n3 = (9.4/2)\n",
    "\n",
    "\n",
    "C_nn = np.array([[sigma_n1**2,0,0],[0,sigma_n2**2,0],[0,0,sigma_n3**2]])\n",
    "\n",
    "x_tilde = np.dot(E_dag, y)\n",
    "\n",
    "C_xx = np.dot(E_dag, np.dot(C_nn,E_dag.T))\n",
    "C_xx "
   ]
  },
  {
   "cell_type": "code",
   "execution_count": 58,
   "id": "00fb4375",
   "metadata": {},
   "outputs": [
    {
     "data": {
      "text/plain": [
       "array([[ 5.89864286e+02],\n",
       "       [-2.35714286e-01]])"
      ]
     },
     "execution_count": 58,
     "metadata": {},
     "output_type": "execute_result"
    }
   ],
   "source": [
    "x_tilde"
   ]
  },
  {
   "cell_type": "code",
   "execution_count": 59,
   "id": "45223e2b",
   "metadata": {},
   "outputs": [
    {
     "data": {
      "text/plain": [
       "0.16548167179479423"
      ]
     },
     "execution_count": 59,
     "metadata": {},
     "output_type": "execute_result"
    }
   ],
   "source": [
    "c_1_error = np.sqrt(2.73841837e-02)\n",
    "c_1_error"
   ]
  },
  {
   "cell_type": "code",
   "execution_count": 64,
   "id": "79c03a96",
   "metadata": {},
   "outputs": [
    {
     "data": {
      "text/plain": [
       "330.6974085172123"
      ]
     },
     "execution_count": 64,
     "metadata": {},
     "output_type": "execute_result"
    }
   ],
   "source": [
    "c_0_error = np.sqrt(1.09360776e+05)\n",
    "c_0_error"
   ]
  },
  {
   "cell_type": "code",
   "execution_count": 63,
   "id": "13c32fda",
   "metadata": {},
   "outputs": [
    {
     "data": {
      "text/plain": [
       "589.864286"
      ]
     },
     "execution_count": 63,
     "metadata": {},
     "output_type": "execute_result"
    }
   ],
   "source": [
    "c_0 = 5.89864286e+02\n",
    "c_0"
   ]
  },
  {
   "cell_type": "code",
   "execution_count": 62,
   "id": "5c927782",
   "metadata": {},
   "outputs": [
    {
     "data": {
      "text/plain": [
       "-0.235714286"
      ]
     },
     "execution_count": 62,
     "metadata": {},
     "output_type": "execute_result"
    }
   ],
   "source": [
    "c_1 = -2.35714286e-01\n",
    "c_1"
   ]
  },
  {
   "cell_type": "markdown",
   "id": "7220d8f2",
   "metadata": {},
   "source": [
    "## 4. Underdetermined least squares estimation"
   ]
  },
  {
   "cell_type": "code",
   "execution_count": null,
   "id": "83832e96",
   "metadata": {},
   "outputs": [],
   "source": []
  }
 ],
 "metadata": {
  "kernelspec": {
   "display_name": "Python 3",
   "language": "python",
   "name": "python3"
  },
  "language_info": {
   "codemirror_mode": {
    "name": "ipython",
    "version": 3
   },
   "file_extension": ".py",
   "mimetype": "text/x-python",
   "name": "python",
   "nbconvert_exporter": "python",
   "pygments_lexer": "ipython3",
   "version": "3.8.8"
  }
 },
 "nbformat": 4,
 "nbformat_minor": 5
}
