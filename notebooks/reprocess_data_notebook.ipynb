{
 "cells": [
  {
   "cell_type": "markdown",
   "id": "a77aad66",
   "metadata": {},
   "source": [
    "# Reprocess Eddy & Ring Data\n",
    "\n",
    "This notebook is for reprocessing the Northwewst Atlantic eddy tracks derived from the Chelton Tracks\n",
    "\n",
    "The tracks are stored as an xarray DataSet, which is a collection of DataArrays.\n",
    "\n",
    "This makes it easy to reprocess the DataFrames of eddy tracks, ring tracks, and ring counts used in data analysis in the rings_working_notebook. Data processing functions are saved in utils.eddy_data_utils, but need to be run line-by-line (since the eddy tracks depends on the Chelton tracks, ring tracks depend on eddy tracks, and ring counts depend on ring tracks). So when the criteria for what an eddy in the Northwest Atlantic is (if the region bounds change) or the criteria for what a ring is changes, then it is easy to re-run this notebook and reprocess all the DataFrames and save them to the data folder.\n",
    "\n",
    "## Import Functions:"
   ]
  },
  {
   "cell_type": "code",
   "execution_count": 1,
   "id": "893e18f8",
   "metadata": {},
   "outputs": [
    {
     "name": "stdout",
     "output_type": "stream",
     "text": [
      "CPU times: user 1.49 s, sys: 232 ms, total: 1.72 s\n",
      "Wall time: 2.39 s\n"
     ]
    }
   ],
   "source": [
    "%%time\n",
    "# adds howupper level to working directory, this is where the utils folder is saved\n",
    "import sys\n",
    "sys.path.append(\"..\")\n",
    "\n",
    "# import the util functions\n",
    "from utils.eddy_plot_utils import *\n",
    "from utils.eddy_data_utils import *"
   ]
  },
  {
   "cell_type": "markdown",
   "id": "ca8e217e",
   "metadata": {},
   "source": [
    "## Purpose:\n",
    "* These cells reprocesses all the DataFrames for eddies, warm core rings, and cold core rings. \n",
    "* Useful if the criteria for what constitutes an eddy, WCR, or CCR ring changes and you need to reprocess the DataFrames based on the new criteria."
   ]
  },
  {
   "cell_type": "code",
   "execution_count": 2,
   "id": "43538274",
   "metadata": {},
   "outputs": [
    {
     "name": "stdout",
     "output_type": "stream",
     "text": [
      "CPU times: user 282 ms, sys: 38.5 ms, total: 320 ms\n",
      "Wall time: 329 ms\n"
     ]
    }
   ],
   "source": [
    "%%time\n",
    "# OPEN nwa_eddies so we can process & filter out eddies\n",
    "nwa_eddies = pd.read_pickle('/Users/elenaperez/Desktop/chatts/data/pd_dataframes/nwa_eddies.pkl')\n",
    "\n",
    "gs = loadmat('/Users/elenaperez/Desktop/chatts/data/gs/GS_daily_CMEMS_047_50cm_contours_1993_to_nrt.mat')\n",
    "for d in range(len(gs['time'][0])-1):\n",
    "    gs['time'][0][d] = gs['time'][0][d]+date.toordinal(date(1950,1,1))"
   ]
  },
  {
   "cell_type": "code",
   "execution_count": 27,
   "id": "db51cb5b",
   "metadata": {},
   "outputs": [],
   "source": [
    "# %%time\n",
    "# # first, convert nwa_eddies into nwa_wcr_df and nwa_ccr_df which is all of the wcrs/ccrs in nwa \n",
    "# eddy_df_to_ring_df(nwa_eddies)\n",
    "\n",
    "# # When called, eddy_df_to_ring_df takes DataFrame of all eddies in the Northwest Atlantic and determines\n",
    "# # which eddies are WCRs and CCRs and create a DataFrame for each, respectively nwa_wcr_df and nwa_ccr_df. \n",
    "# # The new DataFrames are saved as pickles in the pd_dataframes folder:\n",
    "# # path_to_data_folder = '/Users/elenaperez/Desktop/chatts/data/pd_dataframes/'\n",
    "\n",
    "# # Also, reprocess the Cape Hatteras dataFrame\n",
    "# make_eddy_ch_df(nwa_eddies, False, 'ch_eddies')"
   ]
  },
  {
   "cell_type": "code",
   "execution_count": 4,
   "id": "589ce1c3",
   "metadata": {},
   "outputs": [
    {
     "name": "stdout",
     "output_type": "stream",
     "text": [
      "CPU times: user 2.91 ms, sys: 6.75 ms, total: 9.66 ms\n",
      "Wall time: 11.2 ms\n"
     ]
    }
   ],
   "source": [
    "%%time\n",
    "# OPEN nwa_ccr_df and nwa_wcr_df so they can be processed\n",
    "# use nwa_wcr_df, nwa_ccr_df for all west/east features, nwa_wcr_day_df, nwa_ccr_day_df for westward features,\n",
    "# and nwa_east_wcr_day_df, nwa_east_ccr_day_df for westward features\n",
    "nwa_wcr_day_df = pd.read_pickle('/Users/elenaperez/Desktop/chatts/data/pd_dataframes/nwa_wcr_day_df.pkl')\n",
    "nwa_ccr_day_df = pd.read_pickle('/Users/elenaperez/Desktop/chatts/data/pd_dataframes/nwa_ccr_day_df.pkl')\n",
    "\n",
    "# Next, we need to open the WCR and CCR DataFrames in order to call them in the next cell."
   ]
  },
  {
   "cell_type": "code",
   "execution_count": 5,
   "id": "4c62b9ae",
   "metadata": {},
   "outputs": [
    {
     "name": "stdout",
     "output_type": "stream",
     "text": [
      "CPU times: user 5min 2s, sys: 23.7 s, total: 5min 26s\n",
      "Wall time: 2min 5s\n"
     ]
    }
   ],
   "source": [
    "%%time\n",
    "\n",
    "# second, split eddies, wcrs, and ccrs into zone-specific dataframes \n",
    "zone_df_names = {'zone_eddies':0, 'zone1_eddies':1, 'zone2_eddies':2, 'zone3_eddies':3, 'zone4_eddies':4,\n",
    "                'zone_wcrs':0, 'zone1_wcrs':1, 'zone2_wcrs':2, 'zone3_wcrs':3, 'zone4_wcrs':4,\n",
    "                'zone_ccrs':0, 'zone1_ccrs':1, 'zone2_ccrs':2, 'zone3_ccrs':3, 'zone4_ccrs':4}\n",
    "\n",
    "for name in zone_df_names:\n",
    "    # CCR\n",
    "    if name != None and 'ccr' in name:\n",
    "        make_eddy_zone_df(nwa_ccr_day_df, False, zone_df_names[name], name)\n",
    "    # WCR\n",
    "    elif name != None and 'wcr' in name:\n",
    "        make_eddy_zone_df(nwa_wcr_day_df, False, zone_df_names[name], name)\n",
    "    # eddies\n",
    "    elif name != None and 'eddies' in name:\n",
    "        make_eddy_zone_df(nwa_eddies, False, zone_df_names[name], name)\n",
    "        \n",
    "# When called, make_eddy_zone_df takes a ring DataFrame (e.g. nwa_wcr_df or nwa_ccr_df) and splits the rings\n",
    "# into the respective zones defined in Gangopadhyay et al., 2019. The latitude of all zones spans 30N to 45N.\n",
    "# The zones are defined longitudinally with Zone 1 bounded from 75W to 70W, Zone 2 is 70W to 65W, \n",
    "# Zone 3 is 65W to 60W, and Zone 4 is 60W to 55W. Here I've added Zone \"0\" to span 75W to 55W. This is important\n",
    "# because not all rings in the Northwest Atlantic are contained in Zones 1-4, but we only care about Zones 1-4\n",
    "# since we are validating the ring census work of Gangopadhyay et al., 2019 and Silver et al., 2021.\n",
    "# The zone-specific DataFrames are saved in the pd_dataframes folder:\n",
    "# path_to_data_folder = '/Users/elenaperez/Desktop/chatts/data/pd_dataframes/'"
   ]
  },
  {
   "cell_type": "code",
   "execution_count": 28,
   "id": "026da55e",
   "metadata": {},
   "outputs": [
    {
     "name": "stdout",
     "output_type": "stream",
     "text": [
      "CPU times: user 4min 57s, sys: 24.1 s, total: 5min 21s\n",
      "Wall time: 2min 2s\n"
     ]
    }
   ],
   "source": [
    "%%time\n",
    "## EASTWARD features ###\n",
    "nwa_east_wcr_day_df = pd.read_pickle('/Users/elenaperez/Desktop/chatts/data/pd_dataframes/nwa_east_wcr_day_df.pkl')\n",
    "nwa_east_ccr_day_df = pd.read_pickle('/Users/elenaperez/Desktop/chatts/data/pd_dataframes/nwa_east_ccr_day_df.pkl')\n",
    "\n",
    "# second, split eddies, wcrs, and ccrs into zone-specific dataframes \n",
    "zone_df_names = {'zone_east_eddies':0, 'zone1_east_eddies':1, 'zone2_east_eddies':2, 'zone3_east_eddies':3, 'zone4_east_eddies':4,\n",
    "                'zone_east_wcrs':0, 'zone1_east_wcrs':1, 'zone2_east_wcrs':2, 'zone3_east_wcrs':3, 'zone4_east_wcrs':4,\n",
    "                'zone_east_ccrs':0, 'zone1_east_ccrs':1, 'zone2_east_ccrs':2, 'zone3_east_ccrs':3, 'zone4_east_ccrs':4}\n",
    "\n",
    "for name in zone_df_names:\n",
    "    # CCR\n",
    "    if name != None and 'ccr' in name:\n",
    "        make_eddy_zone_df(nwa_east_ccr_day_df, False, zone_df_names[name], name)\n",
    "    # WCR\n",
    "    elif name != None and 'wcr' in name:\n",
    "        make_eddy_zone_df(nwa_east_wcr_day_df, False, zone_df_names[name], name)\n",
    "    # eddies\n",
    "    elif name != None and 'eddies' in name:\n",
    "        make_eddy_zone_df(nwa_eddies, False, zone_df_names[name], name)\n",
    "        \n",
    "# When called, make_eddy_zone_df takes a ring DataFrame (e.g. nwa_wcr_df or nwa_ccr_df) and splits the rings\n",
    "# into the respective zones defined in Gangopadhyay et al., 2019. The latitude of all zones spans 30N to 45N.\n",
    "# The zones are defined longitudinally with Zone 1 bounded from 75W to 70W, Zone 2 is 70W to 65W, \n",
    "# Zone 3 is 65W to 60W, and Zone 4 is 60W to 55W. Here I've added Zone \"0\" to span 75W to 55W. This is important\n",
    "# because not all rings in the Northwest Atlantic are contained in Zones 1-4, but we only care about Zones 1-4\n",
    "# since we are validating the ring census work of Gangopadhyay et al., 2019 and Silver et al., 2021.\n",
    "# The zone-specific DataFrames are saved in the pd_dataframes folder:\n",
    "# path_to_data_folder = '/Users/elenaperez/Desktop/chatts/data/pd_dataframes/'"
   ]
  },
  {
   "cell_type": "code",
   "execution_count": 18,
   "id": "ef3240c0",
   "metadata": {},
   "outputs": [
    {
     "name": "stdout",
     "output_type": "stream",
     "text": [
      "CPU times: user 10.8 ms, sys: 43.9 ms, total: 54.7 ms\n",
      "Wall time: 92.4 ms\n"
     ]
    }
   ],
   "source": [
    "%%time\n",
    "\n",
    "# OPEN zone-specific dataframes so they can be counted up and made into a formations count dataframe\n",
    "# open *eddy* dfs for Gangopadhyay et al., 2019 zones\n",
    "zone_eddies = pd.read_pickle('/Users/elenaperez/Desktop/chatts/data/pd_dataframes/zone_eddies.pkl') # all zones\n",
    "zone1_eddies = pd.read_pickle('/Users/elenaperez/Desktop/chatts/data/pd_dataframes/zone1_eddies.pkl') \n",
    "zone2_eddies = pd.read_pickle('/Users/elenaperez/Desktop/chatts/data/pd_dataframes/zone2_eddies.pkl') \n",
    "zone3_eddies = pd.read_pickle('/Users/elenaperez/Desktop/chatts/data/pd_dataframes/zone3_eddies.pkl')\n",
    "zone4_eddies = pd.read_pickle('/Users/elenaperez/Desktop/chatts/data/pd_dataframes/zone4_eddies.pkl') \n",
    "\n",
    "# open *CYCLONIC* eddy df for Gangopadhyay et al., 2019 zones\n",
    "zone_ceddies = pd.read_pickle('/Users/elenaperez/Desktop/chatts/data/pd_dataframes/zone_ceddies.pkl') # all zones\n",
    "zone1_ceddies = pd.read_pickle('/Users/elenaperez/Desktop/chatts/data/pd_dataframes/zone1_ceddies.pkl') \n",
    "zone2_ceddies = pd.read_pickle('/Users/elenaperez/Desktop/chatts/data/pd_dataframes/zone2_ceddies.pkl') \n",
    "zone3_ceddies = pd.read_pickle('/Users/elenaperez/Desktop/chatts/data/pd_dataframes/zone3_ceddies.pkl')\n",
    "zone4_ceddies = pd.read_pickle('/Users/elenaperez/Desktop/chatts/data/pd_dataframes/zone4_ceddies.pkl') \n",
    "\n",
    "# open *ANTI-CYCLONIC* eddy df for Gangopadhyay et al., 2019 zones\n",
    "zone_aeddies = pd.read_pickle('/Users/elenaperez/Desktop/chatts/data/pd_dataframes/zone_aeddies.pkl') # all zones\n",
    "zone1_aeddies = pd.read_pickle('/Users/elenaperez/Desktop/chatts/data/pd_dataframes/zone1_aeddies.pkl') \n",
    "zone2_aeddies = pd.read_pickle('/Users/elenaperez/Desktop/chatts/data/pd_dataframes/zone2_aeddies.pkl') \n",
    "zone3_aeddies = pd.read_pickle('/Users/elenaperez/Desktop/chatts/data/pd_dataframes/zone3_aeddies.pkl')\n",
    "zone4_aeddies = pd.read_pickle('/Users/elenaperez/Desktop/chatts/data/pd_dataframes/zone4_aeddies.pkl') \n",
    "\n",
    "# open *CCR* dfs for Gangopadhyay et al., 2019 zones\n",
    "zone_ccrs = pd.read_pickle('/Users/elenaperez/Desktop/chatts/data/pd_dataframes/zone_ccrs.pkl') # all zones\n",
    "zone1_ccrs = pd.read_pickle('/Users/elenaperez/Desktop/chatts/data/pd_dataframes/zone1_ccrs.pkl') \n",
    "zone2_ccrs = pd.read_pickle('/Users/elenaperez/Desktop/chatts/data/pd_dataframes/zone2_ccrs.pkl') \n",
    "zone3_ccrs = pd.read_pickle('/Users/elenaperez/Desktop/chatts/data/pd_dataframes/zone3_ccrs.pkl') \n",
    "zone4_ccrs = pd.read_pickle('/Users/elenaperez/Desktop/chatts/data/pd_dataframes/zone4_ccrs.pkl') \n",
    "\n",
    "# open *WCR* dfs for Gangopadhyay et al., 2019 zones\n",
    "zone_wcrs = pd.read_pickle('/Users/elenaperez/Desktop/chatts/data/pd_dataframes/zone_wcrs.pkl') # all zones\n",
    "zone1_wcrs = pd.read_pickle('/Users/elenaperez/Desktop/chatts/data/pd_dataframes/zone1_wcrs.pkl') \n",
    "zone2_wcrs = pd.read_pickle('/Users/elenaperez/Desktop/chatts/data/pd_dataframes/zone2_wcrs.pkl') \n",
    "zone3_wcrs = pd.read_pickle('/Users/elenaperez/Desktop/chatts/data/pd_dataframes/zone3_wcrs.pkl') \n",
    "zone4_wcrs = pd.read_pickle('/Users/elenaperez/Desktop/chatts/data/pd_dataframes/zone4_wcrs.pkl') \n",
    "\n",
    "# Now, we must open the new zone-specific eddy and ring DataFrames in order to create the new \n",
    "# eddy and ring count DataFrames in the next cell."
   ]
  },
  {
   "cell_type": "code",
   "execution_count": 19,
   "id": "bb0eef47",
   "metadata": {},
   "outputs": [
    {
     "name": "stdout",
     "output_type": "stream",
     "text": [
      "CPU times: user 185 ms, sys: 17.3 ms, total: 202 ms\n",
      "Wall time: 189 ms\n"
     ]
    }
   ],
   "source": [
    "%%time\n",
    "\n",
    "# third, recreate dataframes of the formation counts for zone-specific wcrs/ccrs\n",
    "counts_df_names = {'zone_wcr_annual_formations':zone_wcrs, 'zone1_wcr_annual_formations':zone1_wcrs, 'zone2_wcr_annual_formations':zone2_wcrs, 'zone3_wcr_annual_formations':zone3_wcrs, 'zone4_wcr_annual_formations':zone4_wcrs,\n",
    "                    'zone_ccr_annual_formations':zone_ccrs, 'zone1_ccr_annual_formations':zone1_ccrs, 'zone2_ccr_annual_formations':zone2_ccrs, 'zone3_ccr_annual_formations':zone3_ccrs, 'zone4_ccr_annual_formations':zone4_ccrs}\n",
    "\n",
    "for name in counts_df_names:\n",
    "    # CCR\n",
    "    if name != None and 'ccr' in name:\n",
    "        count_annual_ring_formations(counts_df_names[name],'ccr',name)\n",
    "    # WCR\n",
    "    elif name != None and 'wcr' in name:\n",
    "        count_annual_ring_formations(counts_df_names[name],'wcr',name)\n",
    "        \n",
    "# When called, count_annual_ring_formations takes the zone-specific ring DataFrame and tallies the number of \n",
    "# formations by year and saves the annual formation DataFrame to the pd_dataframes folder :\n",
    "# path_to_data_folder = '/Users/elenaperez/Desktop/chatts/data/pd_dataframes/'"
   ]
  },
  {
   "cell_type": "code",
   "execution_count": 20,
   "id": "9467aefd",
   "metadata": {},
   "outputs": [
    {
     "name": "stdout",
     "output_type": "stream",
     "text": [
      "CPU times: user 174 ms, sys: 13.2 ms, total: 187 ms\n",
      "Wall time: 176 ms\n"
     ]
    }
   ],
   "source": [
    "%%time\n",
    "\n",
    "# fourth, create monthly formations and average monthly formation counts dataframes for zone rings\n",
    "counts_df_names = {'zone_wcr_monthly_formations':zone_wcrs, 'zone1_wcr_monthly_formations':zone1_wcrs, 'zone2_wcr_monthly_formations':zone2_wcrs, 'zone3_wcr_monthly_formations':zone3_wcrs, 'zone4_wcr_monthly_formations':zone4_wcrs,\n",
    "                    'zone_ccr_monthly_formations':zone_ccrs, 'zone1_ccr_monthly_formations':zone1_ccrs, 'zone2_ccr_monthly_formations':zone2_ccrs, 'zone3_ccr_monthly_formations':zone3_ccrs, 'zone4_ccr_monthly_formations':zone4_ccrs}\n",
    "\n",
    "for name in counts_df_names:\n",
    "    # CCR\n",
    "    if name != None and 'ccr' in name:\n",
    "        count_monthly_ring_formations(counts_df_names[name],'ccr',name)\n",
    "    # WCR\n",
    "    elif name != None and 'wcr' in name:\n",
    "        count_monthly_ring_formations(counts_df_names[name],'wcr',name)\n"
   ]
  },
  {
   "cell_type": "code",
   "execution_count": 21,
   "id": "4005c0be",
   "metadata": {},
   "outputs": [
    {
     "name": "stdout",
     "output_type": "stream",
     "text": [
      "CPU times: user 518 ms, sys: 71.8 ms, total: 590 ms\n",
      "Wall time: 508 ms\n"
     ]
    }
   ],
   "source": [
    "%%time\n",
    "\n",
    "# repeat, but for monthly EDDY formations\n",
    "counts_df_names = {'zone_aeddy_monthly_formations':zone_aeddies, 'zone1_aeddy_monthly_formations':zone1_aeddies, 'zone2_aeddy_monthly_formations':zone2_aeddies, 'zone3_aeddy_monthly_formations':zone3_aeddies, 'zone4_aeddy_monthly_formations':zone4_aeddies,\n",
    "                    'zone_ceddy_monthly_formations':zone_ceddies, 'zone1_ceddy_monthly_formations':zone1_ceddies, 'zone2_ceddy_monthly_formations':zone2_ceddies, 'zone3_ceddy_monthly_formations':zone3_ceddies, 'zone4_ceddy_monthly_formations':zone4_ceddies}\n",
    "\n",
    "for name in counts_df_names:\n",
    "    # CYCLONIC\n",
    "    if name != None and 'ceddy' in name:\n",
    "        count_monthly_eddy_formations(counts_df_names[name],'cyclonic',name)\n",
    "    # ANTICYCLONIC\n",
    "    elif name != None and 'aeddy' in name:\n",
    "        count_monthly_eddy_formations(counts_df_names[name],'anticyclonic',name)\n"
   ]
  },
  {
   "cell_type": "code",
   "execution_count": 22,
   "id": "9a8d75fc",
   "metadata": {},
   "outputs": [
    {
     "name": "stdout",
     "output_type": "stream",
     "text": [
      "CPU times: user 181 ms, sys: 14.7 ms, total: 196 ms\n",
      "Wall time: 183 ms\n"
     ]
    }
   ],
   "source": [
    "%%time\n",
    "\n",
    "# fifth, create annual formations and for zone rings\n",
    "counts_df_names = {'zone_wcr_annual_formations':zone_wcrs, 'zone1_wcr_annual_formations':zone1_wcrs, 'zone2_wcr_annual_formations':zone2_wcrs, 'zone3_wcr_annual_formations':zone3_wcrs, 'zone4_wcr_annual_formations':zone4_wcrs,\n",
    "                    'zone_ccr_annual_formations':zone_ccrs, 'zone1_ccr_annual_formations':zone1_ccrs, 'zone2_ccr_annual_formations':zone2_ccrs, 'zone3_ccr_annual_formations':zone3_ccrs, 'zone4_ccr_annual_formations':zone4_ccrs}\n",
    "\n",
    "for name in counts_df_names:\n",
    "    # CCR\n",
    "    if name != None and 'ccr' in name:\n",
    "        count_annual_ring_formations(counts_df_names[name],'ccr',name)\n",
    "    # WCR\n",
    "    elif name != None and 'wcr' in name:\n",
    "        count_annual_ring_formations(counts_df_names[name],'wcr',name)\n"
   ]
  },
  {
   "cell_type": "code",
   "execution_count": 23,
   "id": "60ce4817",
   "metadata": {},
   "outputs": [
    {
     "name": "stdout",
     "output_type": "stream",
     "text": [
      "CPU times: user 591 ms, sys: 83.4 ms, total: 675 ms\n",
      "Wall time: 579 ms\n"
     ]
    }
   ],
   "source": [
    "%%time\n",
    "\n",
    "# repeat, but for EDDY formations\n",
    "counts_df_names = {'zone_aeddy_annual_formations':zone_aeddies, 'zone1_aeddy_annual_formations':zone1_aeddies, 'zone2_aeddy_annual_formations':zone2_aeddies, 'zone3_aeddy_annual_formations':zone3_aeddies, 'zone4_aeddy_annual_formations':zone4_aeddies,\n",
    "                    'zone_ceddy_annual_formations':zone_ceddies, 'zone1_ceddy_annual_formations':zone1_ceddies, 'zone2_ceddy_annual_formations':zone2_ceddies, 'zone3_ceddy_annual_formations':zone3_ceddies, 'zone4_ceddy_annual_formations':zone4_ceddies}\n",
    "\n",
    "for name in counts_df_names:\n",
    "    # CYCLONIC\n",
    "    if name != None and 'ceddy' in name:\n",
    "        count_annual_eddy_formations(counts_df_names[name],'cyclonic',name)\n",
    "    # ANTICYCLONIC\n",
    "    elif name != None and 'aeddy' in name:\n",
    "        count_annual_eddy_formations(counts_df_names[name],'anticyclonic',name)"
   ]
  },
  {
   "cell_type": "code",
   "execution_count": 24,
   "id": "e870dcf7",
   "metadata": {},
   "outputs": [
    {
     "name": "stdout",
     "output_type": "stream",
     "text": [
      "CPU times: user 3.02 s, sys: 183 ms, total: 3.2 s\n",
      "Wall time: 3.06 s\n"
     ]
    }
   ],
   "source": [
    "%%time\n",
    "\n",
    "# sixth, recreate dataframes of the all months and years formation counts for zone-specific wcrs/ccrs\n",
    "counts_df_names = {'zone_wcr_all_formations':zone_wcrs, 'zone1_wcr_all_formations':zone1_wcrs, 'zone2_wcr_all_formations':zone2_wcrs, 'zone3_wcr_all_formations':zone3_wcrs, 'zone4_wcr_all_formations':zone4_wcrs,\n",
    "                    'zone_ccr_all_formations':zone_ccrs, 'zone1_ccr_all_formations':zone1_ccrs, 'zone2_ccr_all_formations':zone2_ccrs, 'zone3_ccr_all_formations':zone3_ccrs, 'zone4_ccr_all_formations':zone4_ccrs}\n",
    "\n",
    "for name in counts_df_names:\n",
    "    # CCR\n",
    "    if name != None and 'ccr' in name:\n",
    "        count_all_ring_formations(counts_df_names[name],'ccr',name)\n",
    "    # WCR\n",
    "    elif name != None and 'wcr' in name:\n",
    "        count_all_ring_formations(counts_df_names[name],'wcr',name)"
   ]
  },
  {
   "cell_type": "code",
   "execution_count": 25,
   "id": "736dac24",
   "metadata": {},
   "outputs": [
    {
     "name": "stdout",
     "output_type": "stream",
     "text": [
      "CPU times: user 10.1 s, sys: 1.3 s, total: 11.4 s\n",
      "Wall time: 9.96 s\n"
     ]
    }
   ],
   "source": [
    "%%time\n",
    "\n",
    "# repeat, but for EDDY counts\n",
    "counts_df_names = {'zone_aeddy_all_formations':zone_aeddies, 'zone1_aeddy_all_formations':zone1_aeddies, 'zone2_aeddy_all_formations':zone2_aeddies, 'zone3_aeddy_all_formations':zone3_aeddies, 'zone4_aeddy_all_formations':zone4_aeddies,\n",
    "                    'zone_ceddy_all_formations':zone_ceddies, 'zone1_ceddy_all_formations':zone1_ceddies, 'zone2_ceddy_all_formations':zone2_ceddies, 'zone3_ceddy_all_formations':zone3_ceddies, 'zone4_ceddy_all_formations':zone4_ceddies}\n",
    "\n",
    "for name in counts_df_names:\n",
    "    # CYCLONIC\n",
    "    if name != None and 'ceddy' in name:\n",
    "        count_all_eddy_formations(counts_df_names[name],'cyclonic',name)\n",
    "    # ANTICYCLONIC\n",
    "    elif name != None and 'aeddy' in name:\n",
    "        count_all_eddy_formations(counts_df_names[name],'anticyclonic',name)"
   ]
  },
  {
   "cell_type": "code",
   "execution_count": 26,
   "id": "1192ab84",
   "metadata": {},
   "outputs": [
    {
     "name": "stdout",
     "output_type": "stream",
     "text": [
      "CPU times: user 27 ms, sys: 3.19 ms, total: 30.2 ms\n",
      "Wall time: 32.8 ms\n"
     ]
    }
   ],
   "source": [
    "%%time\n",
    "\n",
    "# finally, merge the zone-specific counts into one DataFrame for easy plotting\n",
    "merge_monthly_ring_counts()\n",
    "merge_annual_ring_counts()\n",
    "merge_all_ring_counts()\n",
    "\n",
    "# repeat, but for EDDY counts\n",
    "merge_monthly_eddy_counts()\n",
    "merge_annual_eddy_counts()\n",
    "merge_all_eddy_counts()\n",
    "\n",
    "# When called, these functions takes the zone-specific formations counts and merges them into one DataFrame.\n",
    "# The new formation count DataFrame is saved as zone_wcr_formations, zone_ccr_formations, and zone_eddy_formations"
   ]
  },
  {
   "cell_type": "code",
   "execution_count": null,
   "id": "86eb253e",
   "metadata": {},
   "outputs": [],
   "source": []
  },
  {
   "cell_type": "code",
   "execution_count": null,
   "id": "2130f8e4",
   "metadata": {},
   "outputs": [],
   "source": []
  }
 ],
 "metadata": {
  "kernelspec": {
   "display_name": "Python 3",
   "language": "python",
   "name": "python3"
  },
  "language_info": {
   "codemirror_mode": {
    "name": "ipython",
    "version": 3
   },
   "file_extension": ".py",
   "mimetype": "text/x-python",
   "name": "python",
   "nbconvert_exporter": "python",
   "pygments_lexer": "ipython3",
   "version": "3.8.8"
  }
 },
 "nbformat": 4,
 "nbformat_minor": 5
}
